{
 "cells": [
  {
   "cell_type": "markdown",
   "id": "fbb518dc",
   "metadata": {},
   "source": [
    "## 1. Import Libraries"
   ]
  },
  {
   "cell_type": "code",
   "execution_count": 8,
   "id": "cde52014",
   "metadata": {},
   "outputs": [],
   "source": [
    "import pandas as pd\n",
    "import numpy as np\n",
    "import matplotlib.pyplot as plt\n",
    "import seaborn as sns \n",
    "from sklearn import linear_model\n",
    "from sklearn.metrics import mean_squared_error, mean_absolute_error, r2_score\n",
    "from sklearn.linear_model import LinearRegression as LinReg\n",
    "from sklearn.preprocessing import MinMaxScaler\n",
    "from sklearn.preprocessing import StandardScaler\n",
    "from sklearn.preprocessing import OneHotEncoder\n",
    "from sklearn.model_selection import train_test_split as tts\n",
    "from sklearn.metrics import r2_score\n",
    "import math"
   ]
  },
  {
   "cell_type": "markdown",
   "id": "6e04f5ff",
   "metadata": {},
   "source": [
    "## 2. Initialise function"
   ]
  },
  {
   "cell_type": "code",
   "execution_count": 9,
   "id": "baa19623",
   "metadata": {},
   "outputs": [],
   "source": [
    "def FIFA(x):\n",
    "   \n",
    "    #Column Cleaning\n",
    "  \n",
    "    #change titles to lower case \n",
    "    lower = []\n",
    "    for i in x.columns:\n",
    "        lower.append(i.lower())\n",
    "    x.columns = lower\n",
    "  \n",
    "    #Rename unclear column names\n",
    "    x = x.rename(columns={'weight':'weight kg','loan date end':'on_loan', 'value':'value_€','wage':'wage_€','release clause':'release_clause_€','bp' : 'best position','a/w' : 'attacking workrate','d/w':'defensive workrate','ir' : 'international reputation','w/f':'weak foot','sm' : 'skill move','ova':'ovr'})\n",
    "    \n",
    "\n",
    "    #Puts underscore instead of spaces\n",
    "    under_ = []\n",
    "    for i in x.columns:\n",
    "        if ' ' in i:\n",
    "            under_.append(i.replace(' ', '_'))\n",
    "        else:\n",
    "            under_.append(i)\n",
    "    x.columns = under_   \n",
    "\n",
    "\n",
    "    \n",
    "    #Value Cleaning\n",
    "\n",
    "    #cleaned up the final columns (taking + out)\n",
    "    def split(y):\n",
    "        y = y.str.split(\"+\", n = 1, expand = True)[0]\n",
    "        return y \n",
    "    \n",
    "    cols = x[['ls','st','rs','lw','lf','cf','rf','rw','lam','cam','ram','lm','lcm','cm','rcm','rm','lwb','ldm','cdm','rdm','rwb','lb','lcb','cb','rcb','rb','gk']]\n",
    "    for i in cols:\n",
    "        x[i] = split(cols[i])\n",
    "        x[i] = x[i].astype(int)\n",
    "        \n",
    "        \n",
    "    #Remove stars from values in columns\n",
    "    x['skill_move']=x['skill_move'].str.replace('★','') \n",
    "    x['weak_foot']=x['weak_foot'].str.replace('★','')\n",
    "    x['international_reputation']=x['international_reputation'].str.replace('★','')\n",
    "    \n",
    "    \n",
    "    #Fill Nulls and create boolean values for on_loan column\n",
    "    x['on_loan'] = x['on_loan'].fillna(0)\n",
    "    \n",
    "    numb = []\n",
    "    for i in x['on_loan']:\n",
    "        if i != 0:\n",
    "            numb.append(1)\n",
    "        else:\n",
    "            numb.append(0)\n",
    "\n",
    "    x['on_loan'] = numb\n",
    "    \n",
    "    \n",
    "    #Convert money to int by removing characters and punctuation, then correcting the amounts\n",
    "    def moneycon(x):\n",
    "\n",
    "        money = []\n",
    "        for i in x:\n",
    "            i = i.replace(\"€\",'')\n",
    "            if 'K' in i:\n",
    "                i = i.replace(\"K\",'')\n",
    "                i = i.replace(\".\",'')\n",
    "                i = float(i)\n",
    "                i = float(i * 1000)\n",
    "                i = int(i)\n",
    "                money.append(i)\n",
    "            elif 'M' in i:\n",
    "                i = i.replace(\"M\",'')\n",
    "                i = float(i)\n",
    "                i = float(i * 1000000)\n",
    "                i = int(i)\n",
    "                money.append(i)\n",
    "            else:\n",
    "                money.append(i)   \n",
    "            \n",
    "        return money\n",
    "    \n",
    "    x['value_€'] = moneycon(x['value_€'])\n",
    "    x['wage_€'] = moneycon(x['wage_€'])\n",
    "    x['release_clause_€'] = moneycon(x['release_clause_€'])\n",
    "    x['hits'] = moneycon(x['hits'])\n",
    "    \n",
    "    x['value_€'] = pd.to_numeric(x['value_€'])\n",
    "    x['wage_€'] = pd.to_numeric(x['wage_€'])\n",
    "    x['release_clause_€'] = pd.to_numeric(x['release_clause_€'])\n",
    "    x['hits'] = pd.to_numeric(x['hits'])\n",
    "    \n",
    "    x['defensive_workrate'] = x['defensive_workrate'].fillna(\"U\")\n",
    "    x['defensive_workrate'] = x['defensive_workrate'].map({'Low':1,'Medium':2,'High':3, \"U\":0})\n",
    "    x['attacking_workrate'] = x['attacking_workrate'].fillna(\"U\")\n",
    "    x['attacking_workrate'] = x['attacking_workrate'].map({'Low':1,'Medium':2,'High':3, \"U\":0})\n",
    "    x['foot'] = x['foot'].fillna(\"U\")\n",
    "    x['foot'] = x['foot'].map({'Right':0,'Left':1})\n",
    "    \n",
    "    \n",
    "    #x['gk'] = x['gk'].map({'None':0})\n",
    "    \n",
    "    \n",
    "    #Convert columns to integers\n",
    "    x['international_reputation'] = x['international_reputation'].astype(int)\n",
    "    x['skill_move'] = x['skill_move'].astype(int)\n",
    "    x['weak_foot'] = x['weak_foot'].astype(int)\n",
    "\n",
    "    \n",
    "    #Convert weight and height columns to metric measurements\n",
    "    \n",
    "    weight=[]\n",
    "    for i in x['weight_kg']:\n",
    "        i = i.replace('lbs','')\n",
    "        i = float(i)*0.453592\n",
    "        weight.append(round(i,2))\n",
    "                     \n",
    "    x['weight_kg'] = weight\n",
    "    \n",
    "    x = x[x['club'].isna()==False]\n",
    "    \n",
    "    \n",
    "    x['heightm'] = x['height'].str.split(\"'\", n = 1, expand = True)[0]\n",
    "    x['heightcm'] = x['height'].str.split(\"'\", n = 0, expand = True)[0]\n",
    "\n",
    "    changetype = x[[]]\n",
    "\n",
    "    heightmcon = []\n",
    "    for i in x['heightm']:\n",
    "        i = float(i) * 30.48\n",
    "        i = int(i)\n",
    "        heightmcon.append(i)\n",
    "    x['heightm'] = heightmcon\n",
    "\n",
    "    heightcmcon= []\n",
    "    for i in x['heightcm']:\n",
    "        i = float(i) * 2.54\n",
    "        i = int(i)\n",
    "        heightcmcon.append(i)\n",
    "    x['heightcm'] = heightcmcon\n",
    "\n",
    "    x['height'] = x['heightm']+x['heightcm']\n",
    "    \n",
    "    hdrop = x[['heightm','heightcm']]\n",
    "    x[i] = x.drop(hdrop, axis = 1, inplace = True)\n",
    "    \n",
    " \n",
    "    \n",
    "    #Determine the columns to be included in the final dataframe (gk has problems with datatype, if i had more time, i would correct this)\n",
    "    x = x[['name','age','nationality','best_position','height','weight_kg','foot','growth','value_€','wage_€','release_clause_€','on_loan','attacking','skill','movement','power','mentality','defending','goalkeeping','total_stats','base_stats','weak_foot','skill_move','attacking_workrate','defensive_workrate','international_reputation','pac','sho','pas','dri','def','phy','hits','ls','st','rs','lw','lf','cf','rf','rw','lam','cam','ram','lm','lcm','cm','rcm','rm','lwb','ldm','cdm','rdm','rwb','lb','lcb','cb','rcb','rb','gk','ovr']]\n",
    "\n",
    "    return x"
   ]
  },
  {
   "cell_type": "markdown",
   "id": "f495d2c9",
   "metadata": {},
   "source": [
    "## 3. Import csv files"
   ]
  },
  {
   "cell_type": "code",
   "execution_count": 10,
   "id": "4b179569",
   "metadata": {},
   "outputs": [],
   "source": [
    "fifa_train = pd.read_csv('2.1 Fifa21 Project/fifa21_train.csv')\n",
    "fifa_validate = pd.read_csv('2.1 Fifa21 Project/fifa21_validate.csv')"
   ]
  },
  {
   "cell_type": "code",
   "execution_count": 11,
   "id": "811bf0b2",
   "metadata": {},
   "outputs": [],
   "source": [
    "fifa_t = FIFA(fifa_train)\n",
    "fifa_v = FIFA(fifa_validate)"
   ]
  },
  {
   "cell_type": "code",
   "execution_count": null,
   "id": "cfb43559",
   "metadata": {},
   "outputs": [],
   "source": []
  },
  {
   "cell_type": "markdown",
   "id": "f956abe4",
   "metadata": {},
   "source": [
    "## 4. Prepare the model"
   ]
  },
  {
   "cell_type": "code",
   "execution_count": 12,
   "id": "603b1421",
   "metadata": {},
   "outputs": [
    {
     "data": {
      "image/png": "[encoded data removed]",
      "text/plain": [
       "<Figure size 360x1800 with 2 Axes>"
      ]
     },
     "metadata": {
      "needs_background": "light"
     },
     "output_type": "display_data"
    }
   ],
   "source": [
    "#Visualise the Correlation of columns in a heatmap\n",
    "corr = fifa_t.corr().loc[:,['ovr']]\n",
    "fig, ax = plt.subplots(figsize=(5,25))\n",
    "ax = sns.heatmap(corr.sort_values(by=['ovr'],ascending=False), ax=ax,annot=True,cbar=True,cmap=\"Purples\")\n",
    "ax.set_xticklabels(ax.xaxis.get_ticklabels(), fontsize=10)\n",
    "ax.set_yticklabels(ax.yaxis.get_ticklabels(), fontsize=10)\n",
    "plt.show()\n",
    "\n"
   ]
  },
  {
   "cell_type": "code",
   "execution_count": 14,
   "id": "d3feed22",
   "metadata": {},
   "outputs": [
    {
     "name": "stderr",
     "output_type": "stream",
     "text": [
      "/var/folders/sm/8s2c1j894rq6v788yfhxt27r0000gn/T/ipykernel_26019/2215693403.py:4: DeprecationWarning: `np.object` is a deprecated alias for the builtin `object`. To silence this warning, use `object` by itself. Doing this will not modify any behavior and is safe. \n",
      "Deprecated in NumPy 1.20; for more details and guidance: https://numpy.org/devdocs/release/1.20.0-notes.html#deprecations\n",
      "  categorical = fifa_t.select_dtypes(include=np.object)\n"
     ]
    }
   ],
   "source": [
    "#Separate Numerical from Categorical columns\n",
    "\n",
    "numerical = fifa_t.select_dtypes(include=np.number)\n",
    "categorical = fifa_t.select_dtypes(include=np.object)\n",
    "\n",
    "\n",
    "#Split  \n",
    "y = numerical['ovr']\n",
    "X = numerical.drop(['ovr'], axis=1)\n",
    "#X_num = X.select_dtypes(include = np.number)\n",
    "\n",
    "#Normalise the numerical data    \n",
    "MinMaxtransformer = MinMaxScaler().fit(X)\n",
    "x_normalized = MinMaxtransformer.transform(X)\n",
    "x_normalized = pd.DataFrame(x_normalized,columns=X.columns)\n",
    "X_num = x_normalized\n",
    "\n",
    "\n",
    "#Drop columns ahead of one-hot-encoding\n",
    "X_cat = categorical.drop(columns=['name','nationality'], axis=1)\n",
    "\n",
    "#One-hot-encode the categorical columns\n",
    "encoder2 = OneHotEncoder(drop='first').fit(X_cat)\n",
    "encoded_for_p2 = encoder2.transform(X_cat).toarray()\n",
    "cols = encoder2.get_feature_names(input_features=X_cat.columns)\n",
    "onehot_encoded_for_p2 = pd.DataFrame(encoded_for_p2, columns=cols)\n",
    "onehot_encoded_for_p2.head()\n",
    "X_cat = onehot_encoded_for_p2\n",
    "\n",
    "#Concatenate the numerical and one-hot-encoded data\n",
    "Xdf = pd.concat([X_cat,X_num], axis=1)"
   ]
  },
  {
   "cell_type": "code",
   "execution_count": 16,
   "id": "e83d7d15",
   "metadata": {},
   "outputs": [
    {
     "data": {
      "text/plain": [
       "(11683, 71)"
      ]
     },
     "execution_count": 16,
     "metadata": {},
     "output_type": "execute_result"
    }
   ],
   "source": [
    "Xdf.shape"
   ]
  },
  {
   "cell_type": "markdown",
   "id": "eb1cbe1b",
   "metadata": {},
   "source": [
    "## 5. Split & Train"
   ]
  },
  {
   "cell_type": "code",
   "execution_count": 20,
   "id": "aa38cf30",
   "metadata": {},
   "outputs": [],
   "source": [
    "X_train, X_test, y_train, y_test = tts(Xdf, y, test_size=0.2, random_state=42)"
   ]
  },
  {
   "cell_type": "code",
   "execution_count": 21,
   "id": "5b1bd15a",
   "metadata": {},
   "outputs": [],
   "source": [
    "linreg = LinReg()\n",
    "linreg.fit(X_train,y_train)\n",
    "y_pred_linreg = linreg.predict(X_test)"
   ]
  },
  {
   "cell_type": "code",
   "execution_count": 22,
   "id": "6ca225a8",
   "metadata": {},
   "outputs": [],
   "source": [
    "lm = linear_model.LinearRegression()"
   ]
  },
  {
   "cell_type": "code",
   "execution_count": 23,
   "id": "bcb19b79",
   "metadata": {},
   "outputs": [
    {
     "name": "stdout",
     "output_type": "stream",
     "text": [
      "-241538597831.44754\n",
      "[ 4.31015184e+00  6.89327575e-01 -3.38351949e-01 -6.27272702e-01\n",
      " -3.37641303e+00  1.95206069e+00  5.05191619e-01  9.17980710e-01\n",
      "  1.59365903e+00  2.17588115e+00  3.53435700e-01  5.43803610e-01\n",
      "  1.48319124e+00  4.61826471e-01  1.68853027e+00  1.32012972e-01\n",
      "  1.14443784e+00  8.45441111e-02 -2.66024705e+00  2.27586646e+01\n",
      "  1.68154707e+00 -5.12602310e+00  2.83318690e-01 -8.64738299e+11\n",
      " -9.13968450e+11 -7.51294908e+11 -6.65677255e+11 -7.68418439e+11\n",
      " -5.35110334e+11 -9.13968450e+11  3.36691422e+12 -2.64023325e+12\n",
      "  1.95942151e-02  3.03849269e+00 -3.04974323e-01 -3.66100702e-01\n",
      "  1.74495634e+00  7.05405830e+11  7.65869187e+11  6.85251378e+11\n",
      "  6.75174152e+11  7.75946413e+11  6.65096926e+11  4.77230623e+00\n",
      " -1.60938818e+10  8.00251870e+09  8.09136312e+09  7.97142255e+10\n",
      " -3.65631596e+10  1.82611073e+10  1.83020524e+10 -7.97142255e+10\n",
      " -3.72009916e+10  1.86004958e+10  1.86004958e+10 -5.14014986e+09\n",
      "  4.39238519e+10 -2.19619260e+10 -2.19619260e+10  5.14014985e+09\n",
      " -3.59729681e+12  5.41582231e+04 -2.70770831e+04 -2.70770831e+04\n",
      "  3.59729681e+12  3.94143697e+09  2.82079803e+12 -5.53554027e+12\n",
      "  2.71474224e+12 -3.94143696e+09  5.47225868e+01]\n"
     ]
    }
   ],
   "source": [
    "lm.fit(Xdf,y)\n",
    "print(lm.intercept_)\n",
    "print(lm.coef_)"
   ]
  },
  {
   "cell_type": "code",
   "execution_count": 24,
   "id": "e278a860",
   "metadata": {},
   "outputs": [],
   "source": [
    "pred = lm.predict(X_test)\n",
    "\n"
   ]
  },
  {
   "cell_type": "code",
   "execution_count": 25,
   "id": "6e57099e",
   "metadata": {},
   "outputs": [
    {
     "data": {
      "text/plain": [
       "array([61.88986206, 58.71383667, 76.69927979, ..., 62.91574097,\n",
       "       71.07061768, 76.86029053])"
      ]
     },
     "execution_count": 25,
     "metadata": {},
     "output_type": "execute_result"
    }
   ],
   "source": [
    "pred"
   ]
  },
  {
   "cell_type": "code",
   "execution_count": 26,
   "id": "d3a3d12f",
   "metadata": {},
   "outputs": [
    {
     "name": "stdout",
     "output_type": "stream",
     "text": [
      "Train R2: 0.8959020914119747 \n",
      "Test R2: 0.8933370368970607\n"
     ]
    }
   ],
   "source": [
    "train_r2 = linreg.score(X_train, y_train)\n",
    "test_r2 = linreg.score(X_test, y_test)\n",
    "print (f'Train R2: {train_r2} \\nTest R2: {test_r2}')"
   ]
  },
  {
   "cell_type": "code",
   "execution_count": 29,
   "id": "0f796ae8",
   "metadata": {},
   "outputs": [
    {
     "name": "stdout",
     "output_type": "stream",
     "text": [
      "Train MSE: 4.92829757389307 \n",
      "Test MSE: 4.945849409968515\n"
     ]
    }
   ],
   "source": [
    "train_mse=mean_squared_error(linreg.predict(X_train), y_train)\n",
    "test_mse=mean_squared_error(linreg.predict(X_test), y_test)\n",
    "print(f'Train MSE: {train_mse} \\nTest MSE: {test_mse}')"
   ]
  },
  {
   "cell_type": "code",
   "execution_count": 30,
   "id": "b45bd2b8",
   "metadata": {},
   "outputs": [
    {
     "data": {
      "text/plain": [
       "2.2239265747700654"
      ]
     },
     "execution_count": 30,
     "metadata": {},
     "output_type": "execute_result"
    }
   ],
   "source": [
    "rmse = np.sqrt(test_mse)\n",
    "rmse"
   ]
  },
  {
   "cell_type": "code",
   "execution_count": null,
   "id": "da5deca1",
   "metadata": {},
   "outputs": [],
   "source": []
  },
  {
   "cell_type": "markdown",
   "id": "64fca377",
   "metadata": {},
   "source": [
    "## 6. Test the regression against our model"
   ]
  },
  {
   "cell_type": "code",
   "execution_count": 31,
   "id": "3f324af9",
   "metadata": {},
   "outputs": [
    {
     "name": "stderr",
     "output_type": "stream",
     "text": [
      "/var/folders/sm/8s2c1j894rq6v788yfhxt27r0000gn/T/ipykernel_26019/2810660953.py:3: DeprecationWarning: `np.object` is a deprecated alias for the builtin `object`. To silence this warning, use `object` by itself. Doing this will not modify any behavior and is safe. \n",
      "Deprecated in NumPy 1.20; for more details and guidance: https://numpy.org/devdocs/release/1.20.0-notes.html#deprecations\n",
      "  categorical_ = fifa_v.select_dtypes(include=np.object)\n"
     ]
    }
   ],
   "source": [
    "#Separate Numerical from Categorical columns\n",
    "numerical_ = fifa_v.select_dtypes(include=np.number)\n",
    "categorical_ = fifa_v.select_dtypes(include=np.object)\n",
    "  \n",
    "    \n",
    "#Split\n",
    "y_ = numerical_['ovr']\n",
    "X_ = numerical_.drop(['ovr'], axis=1)\n",
    "\n",
    "\n",
    "#Normalise the numerical data    \n",
    "x_normalized_ = MinMaxtransformer.transform(X_)\n",
    "x_normalized_ = pd.DataFrame(x_normalized_,columns=X_.columns)\n",
    "X_num_ = x_normalized_\n",
    "\n",
    "\n",
    "#Drop any categorical data ahead of one-hot-encoding\n",
    "X_cat_ = categorical_.drop(columns=['name','nationality'], axis=1)\n",
    "\n",
    "#One-hot-encode the categorical columns\n",
    "encoded_for_p2_ = encoder2.transform(X_cat_).toarray()\n",
    "cols_ = encoder2.get_feature_names(input_features=X_cat_.columns)\n",
    "onehot_encoded_for_p2_ = pd.DataFrame(encoded_for_p2_, columns=cols_)\n",
    "X_cat_ = onehot_encoded_for_p2_\n",
    "\n",
    "\n",
    "#Concatenate the numerical and one-hot-encoded data\n",
    "Xdf_ = pd.concat([X_cat_,X_num_], axis=1)\n"
   ]
  },
  {
   "cell_type": "code",
   "execution_count": 32,
   "id": "f487d4a3",
   "metadata": {},
   "outputs": [
    {
     "data": {
      "text/plain": [
       "(11683, 14)"
      ]
     },
     "metadata": {},
     "output_type": "display_data"
    },
    {
     "data": {
      "text/plain": [
       "(11683, 57)"
      ]
     },
     "metadata": {},
     "output_type": "display_data"
    },
    {
     "data": {
      "text/plain": [
       "(1996, 14)"
      ]
     },
     "metadata": {},
     "output_type": "display_data"
    },
    {
     "data": {
      "text/plain": [
       "(1996, 57)"
      ]
     },
     "metadata": {},
     "output_type": "display_data"
    }
   ],
   "source": [
    "display(X_cat.shape)\n",
    "display(X_num.shape)\n",
    "\n",
    "display(X_cat_.shape)\n",
    "display(X_num_.shape)"
   ]
  },
  {
   "cell_type": "code",
   "execution_count": 33,
   "id": "bab79f4c",
   "metadata": {},
   "outputs": [
    {
     "data": {
      "text/plain": [
       "(1996, 71)"
      ]
     },
     "execution_count": 33,
     "metadata": {},
     "output_type": "execute_result"
    }
   ],
   "source": [
    "Xdf_.shape"
   ]
  },
  {
   "cell_type": "code",
   "execution_count": 34,
   "id": "8cb5555d",
   "metadata": {},
   "outputs": [
    {
     "data": {
      "text/plain": [
       "(11683, 71)"
      ]
     },
     "execution_count": 34,
     "metadata": {},
     "output_type": "execute_result"
    }
   ],
   "source": [
    "Xdf.shape"
   ]
  },
  {
   "cell_type": "code",
   "execution_count": 35,
   "id": "2c5fa58f",
   "metadata": {},
   "outputs": [
    {
     "data": {
      "text/plain": [
       "array([65.17474365, 66.36257935, 54.6444397 , ..., 73.95730591,\n",
       "       64.08468628, 60.33807373])"
      ]
     },
     "execution_count": 35,
     "metadata": {},
     "output_type": "execute_result"
    }
   ],
   "source": [
    "validation_prediction = lm.predict(Xdf_)\n",
    "validation_prediction"
   ]
  },
  {
   "cell_type": "code",
   "execution_count": 39,
   "id": "ce0427c6",
   "metadata": {},
   "outputs": [],
   "source": [
    "validations_mse= mean_squared_error(validation_prediction, y_)"
   ]
  },
  {
   "cell_type": "code",
   "execution_count": 40,
   "id": "23452399",
   "metadata": {},
   "outputs": [
    {
     "name": "stdout",
     "output_type": "stream",
     "text": [
      "5.066801537724141\n"
     ]
    }
   ],
   "source": [
    "print(validations_mse)"
   ]
  },
  {
   "cell_type": "code",
   "execution_count": 41,
   "id": "d513173f",
   "metadata": {},
   "outputs": [
    {
     "data": {
      "text/plain": [
       "2.250955694305008"
      ]
     },
     "execution_count": 41,
     "metadata": {},
     "output_type": "execute_result"
    }
   ],
   "source": [
    "rmse = np.sqrt(validations_mse)\n",
    "rmse"
   ]
  }
 ],
 "metadata": {
  "kernelspec": {
   "display_name": "Python 3 (ipykernel)",
   "language": "python",
   "name": "python3"
  },
  "language_info": {
   "codemirror_mode": {
    "name": "ipython",
    "version": 3
   },
   "file_extension": ".py",
   "mimetype": "text/x-python",
   "name": "python",
   "nbconvert_exporter": "python",
   "pygments_lexer": "ipython3",
   "version": "3.9.7"
  }
 },
 "nbformat": 4,
 "nbformat_minor": 5
}
